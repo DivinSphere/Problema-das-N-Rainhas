{
  "nbformat": 4,
  "nbformat_minor": 0,
  "metadata": {
    "colab": {
      "provenance": [],
      "authorship_tag": "ABX9TyOlEcfknRAu9r2uyOWQviL5"
    },
    "kernelspec": {
      "name": "python3",
      "display_name": "Python 3"
    },
    "language_info": {
      "name": "python"
    }
  },
  "cells": [
    {
      "cell_type": "markdown",
      "source": [
        "# **Problema das N Rainhas**\n",
        "\n",
        "O problema das N Rainhas é um problema matemático que visa colocar em um tabuleiro de xadrez de dimensão N x N, N Rainhas sem que uma ataque a outra, ou seja, nenhuma rainha vai poder ser atacada por outra.\n",
        "\n",
        "Uma rainha não pode ser colocada na mesma Linha, Coluna ou Diagonal que outra, caso contrário elas poderão se atacar\n",
        "\n",
        "\n",
        "\n",
        "Exemplo de Configuração válida com N = 8 :\n",
        "\n",
        "![8x8.png](data:image/png;base64,iVBORw0KGgoAAAANSUhEUgAAAfQAAAH0AQAAAADjreInAAAA8ElEQVR4nO3bwQ2CQBAFUFZMsAxLsXRbsQO9aaLigcFEFDRIBMP7F9glLzPXyS5Z2Z1tVqXl836RfRee53me53me53men4NP8czPvfhh7P55nud5nud5nud5fg4+lb3YaTVQfZ7neZ7neZ7neZ6fg/90/o5z9nR93HZ+zvM8z/M8z/M8z/Mj+FOqsm7sx//mjfF9ev3zPM/zPM/zPM/z/BT9srEuus/Ty6hXHAeqz/M8z/M8z/M8z/P8+9Tz+yVe7oP56zxdlx+7f57neZ7neZ7neZ7/J5/HBfV6/N7FPfbNj+rzPM/zPM/zPM/zPN+eG8OwWnsrTeAXAAAAAElFTkSuQmCC)\n",
        "\n",
        "\n",
        "Normalmente o problema é dito com N = 8, ou seja, \"O Problema das 8 Rainhas\" ou até descrito como Damas\n",
        "\n",
        "\n",
        "\n",
        "\n",
        "Exemplo de Configuração válida com N = 150 :\n",
        "\n",
        "![150.png](data:image/png;base64,iVBORw0KGgoAAAANSUhEUgAAAfQAAAH0AQAAAADjreInAAAFCklEQVR4nOVdO3IbMQzlpnGnE2iUzS3cxcdKF3d2Zx0ppW6RHY0OkKiKZmIzxX65C5IAfwCV13hW1hs8kiAI/laNViToL93y8fcnGn2DeP6J9P2mS22fm/8IfXwsZz8Sesaf75qKX9z6G3T/OUENJaD/xMFb/lXAWEFe+W/P5vM6YOS2T4St/i97FF1e/Sfi77ctWdQ+FmD7nQ9YOn/7nYEP0fL56z+ajyzray77kXzlGWA9YzL7+OvTP+Hjq0j9iePH7YFG548f5uMs39Zh8tqnw+d3b7L7Txr/a7tAuhD/66bnlsV+On7nI1zy2hfP35uBhVs/evyCBzH2+GGf/6GSWCH9Pwd/KP6Vy34w34wQu+L2Y/nWme8F+Eyg/mx8o2KG2TG3flr8m/AiPv7hMvH7jX/b4h+L2kfCuX7pX0Rjb79GK/qsbwa7/iT80OK3QvQb0C2a3PHrh/oPwR3vw/9WsBe/LWKfAvz+1Ra3hzrar7V8/lDIPje/Mx/b0vZdoPrf1ZyPSPS/92fH99fTKYH6SVi0X8giIHv7NXrtUiRI0B+B2zdu/WnKj98wXaGa9rPkVOz6sfxR/pHJfi6+e/3ixflfCesX+PUXcCeYXb/Rf+iRvJr+Y+Xrp/khYCDj1o8ev+DsQlz7LZvDQFfGfmm+v/2ci2ji2m8LaNW8pH03FvUfkgRVUP9oPrb450z20/D9x9mNcnLrt/R/96nfGffkf0t4Tg0rNWbC3PqV1vovlNnhwJ7/IfNXWxHZ9XPN/4d0qtr+9/OJ1/6IiPWXy77i+l/wj4HUfSL7cQgOfVrrj6/s8cPuf6jl2HvwPwXPurqC9sPhiR++nF5q+12Hv96cXKh+Kn+dtaNXYrj1m/6HvDU2Q5L/6Sf70b8S9ln4YfnH1M5y2g86nGnF3M5i9MOuZ10OTG5fJr/5oZTzJia3/vD8/bpTkvoPBbpV4xBVpX6Qj7wwppSxOsOtnzz/MFcy2OcfJP3b7VB2/cXiB5zJC4wfV+BbyprJy9OP3wR9zWK/LJ8+fhknSQT6nw/GQZgjt35E/HMdArmj+Bd0CUGQ/yEvrGSzHwZU/wdfPaSUElX/Gfmb4s9HdLn1Nxq9VwpBQvtZ9jq9U99U9sXx+5lIP/XlsE8CJX8fsDgJyD5+NZ+7GLqE/hPH70KZ/T0zdv2ob0F34vqwI1x/2/+xHwcRrt8LwvwDOp1bU//bQRd7uPWrTUgmgT1+5/Q/RGIl2v/6qOG8TsZe/0HnJ97u0//s0ywrZPjfsHROly+r/knoG0tG/Ucg6v7f+VBz+d+fD/z1v4p/3gtf/8f4i46E7P7n7j/eNU12/W6+IR98sYhs/Un54yTMWJji1o+I3y4nFO1/w06isw9J1h/Ln+e7lj3VzPbT8ceSnJnsU/m2A0fbTWyZ+glwTK5qyD8m/WGXkNj1O+I3JgkSHb8j+VPxXTtBgvVPSy+unRxu/Wb/J3ci9v6TqvxvIdFDQPkx83fHJZAq4sfBcZKiBv0ujO0X+BIpMe23UyroJh+3fnD9Gf6tD5H9v+j633YmKcD/UD/T1AOYSXLrN+qffpJHQP0n5DcdMEMsaD8B3zLUWm8nSdNvgeVi3KkW/cF89+tUHtn1g/Eb/yZNmfGj8+1aZ7ZfkN/ogFuzM9jbL3D/cMwk2PWH8E+LTKJG/RH8k1LmPj+3/iD/mydbVfqf2s0r6VXqB/iEXy1QSs15Frf+f1Yslp3k7eMLAAAAAElFTkSuQmCC)"
      ],
      "metadata": {
        "id": "5SUK012-MpMW"
      }
    },
    {
      "cell_type": "code",
      "source": [
        "#Importa as bibliotecas para randomizar o algoritmo\n",
        "import random\n",
        "\n",
        "#Importa as bibliotecas para o desenho do tabuleiro\n",
        "from PIL import Image, ImageColor"
      ],
      "metadata": {
        "id": "3TnX2n3p33Pj"
      },
      "execution_count": 446,
      "outputs": []
    },
    {
      "cell_type": "markdown",
      "source": [
        "# Função Preencher\n",
        "\n",
        "\n",
        "A Função preencher, pega uma posição específica do tabuleiro e coloca uma Rainha nela\n",
        "\n",
        "Também bloqueia as posições em que essa Rainha ataca, para que novas Rainhas não sejam colocadas nessas posições"
      ],
      "metadata": {
        "id": "DpNIkvYfQHZh"
      }
    },
    {
      "cell_type": "code",
      "source": [
        "#Função que preenche um espaço do tabuleiro, invalidando a coluna para a colocação de outra peça, também como as diagonais\n",
        "def preencher(l,c):\n",
        "  if (tab[l][c]==0):\n",
        "    \n",
        "    esq=c\n",
        "    dir=c\n",
        "    \n",
        "    tab[l][c]=1\n",
        "\n",
        "    l+=1\n",
        "\n",
        "    while(l<TAM):\n",
        "      \n",
        "      esq-=1\n",
        "      dir+=1\n",
        "\n",
        "      if (esq>=0):\n",
        "        tab[l][esq]=2\n",
        "      \n",
        "      if (dir<TAM):\n",
        "        tab[l][dir]=2\n",
        "\n",
        "      tab[l][c]=2\n",
        "\n",
        "      l+=1"
      ],
      "metadata": {
        "id": "roaotEl5btXY"
      },
      "execution_count": 548,
      "outputs": []
    },
    {
      "cell_type": "markdown",
      "source": [
        "# Função Buscar\n",
        "\n",
        "\n",
        "A Função buscar, recebe uma linha do tabuleiro, e verifica as posições dela que estão disponíveis para se colocar uma nova Rainha\n",
        "\n",
        "Então escolhe aleatóriamente uma dessas posições para poder ser usada para colocar outra Rainha"
      ],
      "metadata": {
        "id": "uFuAPMwlQuPQ"
      }
    },
    {
      "cell_type": "code",
      "source": [
        "def buscar(linha):\n",
        "\n",
        "  prox=[]\n",
        "\n",
        "  for i in range(TAM):\n",
        "    if (tab[linha][i]==0):\n",
        "      prox.append(i)\n",
        "\n",
        "  random.shuffle(prox)\n",
        "\n",
        "  return prox\n"
      ],
      "metadata": {
        "id": "HNf0Dbv94Jub"
      },
      "execution_count": 448,
      "outputs": []
    },
    {
      "cell_type": "markdown",
      "source": [
        "# Execução do Código\n",
        "\n",
        "Gera uma combinação nova a cada execução para N Rainhas\n",
        "\n",
        "Através da força bruta, gerando e testando várias combinações de tabuleiros até encontrar uma que satisfaça a condição inicial do problema\n",
        "\n",
        "\n",
        "Após encontrar uma configuração válida, desenha ela com pixels para melhor visualização"
      ],
      "metadata": {
        "id": "4uYsmdq_RMRh"
      }
    },
    {
      "cell_type": "code",
      "source": [
        "#Define o Tamanho N do Tabuleiro\n",
        "#Precisa ser maior que 3 para funcionar corretamente\n",
        "TAM=8\n",
        "\n",
        "\n",
        "#Enquanto não encontrar um padrão válido, tente novamente\n",
        "falhou=1\n",
        "while(falhou==1):\n",
        "  falhou=0\n",
        "  \n",
        "\n",
        "  #Cria a Matriz do tabuleiro\n",
        "  tab = []\n",
        "  linha = []\n",
        "\n",
        "  for i in range(TAM):\n",
        "    for i in range(TAM):\n",
        "      linha.append(0)\n",
        "    tab.append(linha)\n",
        "    linha = []\n",
        "\n",
        "\n",
        "  for l in range(TAM):\n",
        "\n",
        "    if len(buscar(l))>0:\n",
        "\n",
        "      #Escolhe uma posição disponível da linha L\n",
        "      num=buscar(l)[0]\n",
        "\n",
        "      #Caso alguma posição esteja disponível, preencher ela\n",
        "      #Caso contrário, tente novamente do zero\n",
        "      if (num>=0):\n",
        "        preencher(l,num)\n",
        "      else:\n",
        "        falhou=1\n",
        "        continue;\n",
        "\n",
        "    else:\n",
        "      falhou=1\n",
        "      continue;\n",
        "\n",
        "\n",
        "#Cria a imagem vazia do tabuleiro\n",
        "IMG=Image.new('1',size=(TAM,TAM),color='white')\n",
        "\n",
        "\n",
        "for a in range(TAM):\n",
        "  for b in range(TAM):\n",
        "    if (tab[a][b]==1):\n",
        "      #Percorre o tabuleiro inteiro e pinta o pixel correspondente\n",
        "      IMG.putpixel((a,b), ImageColor.getcolor('black', '1')) \n",
        "\n",
        "\n",
        "#Exibe a imagem em tamanho 500x500\n",
        "IMG.resize((500,500), Image.ANTIALIAS)"
      ],
      "metadata": {
        "colab": {
          "base_uri": "https://localhost:8080/",
          "height": 517
        },
        "id": "UbG7CLmtBJQS",
        "outputId": "b21536f4-3852-4293-fd56-d414d8248a7a"
      },
      "execution_count": 622,
      "outputs": [
        {
          "output_type": "execute_result",
          "data": {
            "text/plain": [
              "<PIL.Image.Image image mode=1 size=500x500 at 0x7FF1D07BA950>"
            ],
            "image/png": "[encoded data removed]"
          },
          "metadata": {},
          "execution_count": 622
        }
      ]
    }
  ]
}